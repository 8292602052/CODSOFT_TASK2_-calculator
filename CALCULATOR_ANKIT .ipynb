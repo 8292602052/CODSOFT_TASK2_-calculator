{
 "cells": [
  {
   "cell_type": "code",
   "execution_count": 5,
   "id": "86ef5716-8b0c-4b6c-ba1f-7664234e34bf",
   "metadata": {},
   "outputs": [
    {
     "name": "stdout",
     "output_type": "stream",
     "text": [
      "Simple Calculator\n",
      "-----------------\n",
      "Operations available:\n",
      "1. Addition (+)\n",
      "2. Subtraction (-)\n",
      "3. Multiplication (*)\n",
      "4. Division (/)\n",
      "5. Modulus (%)\n",
      "6. Exponentiation (**)\n"
     ]
    },
    {
     "name": "stdin",
     "output_type": "stream",
     "text": [
      "Enter the first number:  6\n",
      "Enter the second number:  5\n",
      "Enter the operation (+, -, *, /, %, **):  **\n"
     ]
    },
    {
     "name": "stdout",
     "output_type": "stream",
     "text": [
      "Result: 6.0 ** 5.0 = 7776.0\n"
     ]
    }
   ],
   "source": [
    "# Simple Calculator in Python\n",
    "def calculator():\n",
    "    print(\"Simple Calculator\")\n",
    "    print(\"-----------------\")\n",
    "    print(\"Operations available:\")\n",
    "    print(\"1. Addition (+)\")\n",
    "    print(\"2. Subtraction (-)\")\n",
    "    print(\"3. Multiplication (*)\")\n",
    "    print(\"4. Division (/)\")\n",
    "    print(\"5. Modulus (%)\")\n",
    "    print(\"6. Exponentiation (**)\")\n",
    "    \n",
    "    try:\n",
    "        # Get user input\n",
    "        num1 = float(input(\"Enter the first number: \"))\n",
    "        num2 = float(input(\"Enter the second number: \"))\n",
    "        operation = input(\"Enter the operation (+, -, *, /, %, **): \")\n",
    "        \n",
    "        # Perform calculation based on operation\n",
    "        if operation == '+':\n",
    "            result = num1 + num2\n",
    "            print(f\"Result: {num1} + {num2} = {result}\")\n",
    "        elif operation == '-':\n",
    "            result = num1 - num2\n",
    "            print(f\"Result: {num1} - {num2} = {result}\")\n",
    "        elif operation == '*':\n",
    "            result = num1 * num2\n",
    "            print(f\"Result: {num1} * {num2} = {result}\")\n",
    "        elif operation == '/':\n",
    "            if num2 == 0:\n",
    "                print(\"Error: Division by zero is not allowed!\")\n",
    "            else:\n",
    "                result = num1 / num2\n",
    "                print(f\"Result: {num1} / {num2} = {result}\")\n",
    "        elif operation == '%':\n",
    "            result = num1 % num2\n",
    "            print(f\"Result: {num1} % {num2} = {result}\")\n",
    "        elif operation == '**':\n",
    "            result = num1 ** num2\n",
    "            print(f\"Result: {num1} ** {num2} = {result}\")\n",
    "        else:\n",
    "            print(\"Invalid operation! Please choose from +, -, *, /, %, **\")\n",
    "    \n",
    "    except ValueError:\n",
    "        print(\"Error: Please enter valid numbers!\")\n",
    "    except Exception as e:\n",
    "        print(f\"An error occurred: {e}\")\n",
    "\n",
    "# Run the calculator\n",
    "calculator()"
   ]
  },
  {
   "cell_type": "code",
   "execution_count": null,
   "id": "d3afc079-44e2-4b12-8cf4-14ceed9b9840",
   "metadata": {},
   "outputs": [],
   "source": []
  }
 ],
 "metadata": {
  "kernelspec": {
   "display_name": "Python [conda env:base] *",
   "language": "python",
   "name": "conda-base-py"
  },
  "language_info": {
   "codemirror_mode": {
    "name": "ipython",
    "version": 3
   },
   "file_extension": ".py",
   "mimetype": "text/x-python",
   "name": "python",
   "nbconvert_exporter": "python",
   "pygments_lexer": "ipython3",
   "version": "3.12.7"
  }
 },
 "nbformat": 4,
 "nbformat_minor": 5
}
